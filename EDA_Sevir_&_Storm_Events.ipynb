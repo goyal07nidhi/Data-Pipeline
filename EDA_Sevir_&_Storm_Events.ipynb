{
 "cells": [
  {
   "cell_type": "markdown",
   "id": "informational-surrey",
   "metadata": {},
   "source": [
    "# Exploratory Data Analysis"
   ]
  },
  {
   "cell_type": "markdown",
   "id": "fleet-compatibility",
   "metadata": {},
   "source": [
    "Import the required modules"
   ]
  },
  {
   "cell_type": "code",
   "execution_count": 1,
   "id": "great-angola",
   "metadata": {},
   "outputs": [
    {
     "ename": "ImportError",
     "evalue": "cannot import name 'BlobServiceClient' from 'azure.storage.blob' (/Library/Frameworks/Python.framework/Versions/3.7/lib/python3.7/site-packages/azure/storage/blob/__init__.py)",
     "output_type": "error",
     "traceback": [
      "\u001b[0;31m---------------------------------------------------------------------------\u001b[0m",
      "\u001b[0;31mImportError\u001b[0m                               Traceback (most recent call last)",
      "\u001b[0;32m<ipython-input-1-f3cefe4ef0ed>\u001b[0m in \u001b[0;36m<module>\u001b[0;34m\u001b[0m\n\u001b[1;32m      4\u001b[0m \u001b[0;32mimport\u001b[0m \u001b[0mnumpy\u001b[0m \u001b[0;32mas\u001b[0m \u001b[0mnp\u001b[0m\u001b[0;34m\u001b[0m\u001b[0;34m\u001b[0m\u001b[0m\n\u001b[1;32m      5\u001b[0m \u001b[0;32mimport\u001b[0m \u001b[0mglob\u001b[0m\u001b[0;34m\u001b[0m\u001b[0;34m\u001b[0m\u001b[0m\n\u001b[0;32m----> 6\u001b[0;31m \u001b[0;32mimport\u001b[0m \u001b[0msnowflake\u001b[0m\u001b[0;34m.\u001b[0m\u001b[0mconnector\u001b[0m\u001b[0;34m\u001b[0m\u001b[0;34m\u001b[0m\u001b[0m\n\u001b[0m\u001b[1;32m      7\u001b[0m \u001b[0;32mfrom\u001b[0m \u001b[0msnowflake\u001b[0m\u001b[0;34m.\u001b[0m\u001b[0mconnector\u001b[0m\u001b[0;34m.\u001b[0m\u001b[0mpandas_tools\u001b[0m \u001b[0;32mimport\u001b[0m \u001b[0mwrite_pandas\u001b[0m\u001b[0;34m\u001b[0m\u001b[0;34m\u001b[0m\u001b[0m\n\u001b[1;32m      8\u001b[0m \u001b[0;32mimport\u001b[0m \u001b[0mmatplotlib\u001b[0m\u001b[0;34m.\u001b[0m\u001b[0mpyplot\u001b[0m \u001b[0;32mas\u001b[0m \u001b[0mplt\u001b[0m\u001b[0;34m\u001b[0m\u001b[0;34m\u001b[0m\u001b[0m\n",
      "\u001b[0;32m/Library/Frameworks/Python.framework/Versions/3.7/lib/python3.7/site-packages/snowflake/connector/__init__.py\u001b[0m in \u001b[0;36m<module>\u001b[0;34m\u001b[0m\n\u001b[1;32m     13\u001b[0m \u001b[0;32mfrom\u001b[0m \u001b[0mlogging\u001b[0m \u001b[0;32mimport\u001b[0m \u001b[0mNullHandler\u001b[0m\u001b[0;34m\u001b[0m\u001b[0;34m\u001b[0m\u001b[0m\n\u001b[1;32m     14\u001b[0m \u001b[0;34m\u001b[0m\u001b[0m\n\u001b[0;32m---> 15\u001b[0;31m \u001b[0;32mfrom\u001b[0m \u001b[0;34m.\u001b[0m\u001b[0mconnection\u001b[0m \u001b[0;32mimport\u001b[0m \u001b[0mSnowflakeConnection\u001b[0m\u001b[0;34m\u001b[0m\u001b[0;34m\u001b[0m\u001b[0m\n\u001b[0m\u001b[1;32m     16\u001b[0m \u001b[0;32mfrom\u001b[0m \u001b[0;34m.\u001b[0m\u001b[0mcursor\u001b[0m \u001b[0;32mimport\u001b[0m \u001b[0mDictCursor\u001b[0m\u001b[0;34m\u001b[0m\u001b[0;34m\u001b[0m\u001b[0m\n\u001b[1;32m     17\u001b[0m from .dbapi import (\n",
      "\u001b[0;32m/Library/Frameworks/Python.framework/Versions/3.7/lib/python3.7/site-packages/snowflake/connector/connection.py\u001b[0m in \u001b[0;36m<module>\u001b[0;34m\u001b[0m\n\u001b[1;32m     46\u001b[0m )\n\u001b[1;32m     47\u001b[0m \u001b[0;32mfrom\u001b[0m \u001b[0;34m.\u001b[0m\u001b[0mconverter\u001b[0m \u001b[0;32mimport\u001b[0m \u001b[0mSnowflakeConverter\u001b[0m\u001b[0;34m\u001b[0m\u001b[0;34m\u001b[0m\u001b[0m\n\u001b[0;32m---> 48\u001b[0;31m \u001b[0;32mfrom\u001b[0m \u001b[0;34m.\u001b[0m\u001b[0mcursor\u001b[0m \u001b[0;32mimport\u001b[0m \u001b[0mLOG_MAX_QUERY_LENGTH\u001b[0m\u001b[0;34m,\u001b[0m \u001b[0mSnowflakeCursor\u001b[0m\u001b[0;34m\u001b[0m\u001b[0;34m\u001b[0m\u001b[0m\n\u001b[0m\u001b[1;32m     49\u001b[0m \u001b[0;32mfrom\u001b[0m \u001b[0;34m.\u001b[0m\u001b[0mdescription\u001b[0m \u001b[0;32mimport\u001b[0m \u001b[0mCLIENT_NAME\u001b[0m\u001b[0;34m,\u001b[0m \u001b[0mCLIENT_VERSION\u001b[0m\u001b[0;34m,\u001b[0m \u001b[0mPLATFORM\u001b[0m\u001b[0;34m,\u001b[0m \u001b[0mPYTHON_VERSION\u001b[0m\u001b[0;34m,\u001b[0m \u001b[0mSNOWFLAKE_CONNECTOR_VERSION\u001b[0m\u001b[0;34m\u001b[0m\u001b[0;34m\u001b[0m\u001b[0m\n\u001b[1;32m     50\u001b[0m from .errorcode import (\n",
      "\u001b[0;32m/Library/Frameworks/Python.framework/Versions/3.7/lib/python3.7/site-packages/snowflake/connector/cursor.py\u001b[0m in \u001b[0;36m<module>\u001b[0;34m\u001b[0m\n\u001b[1;32m     28\u001b[0m )\n\u001b[1;32m     29\u001b[0m \u001b[0;32mfrom\u001b[0m \u001b[0;34m.\u001b[0m\u001b[0merrors\u001b[0m \u001b[0;32mimport\u001b[0m \u001b[0mDatabaseError\u001b[0m\u001b[0;34m,\u001b[0m \u001b[0mError\u001b[0m\u001b[0;34m,\u001b[0m \u001b[0mInterfaceError\u001b[0m\u001b[0;34m,\u001b[0m \u001b[0mNotSupportedError\u001b[0m\u001b[0;34m,\u001b[0m \u001b[0mProgrammingError\u001b[0m\u001b[0;34m\u001b[0m\u001b[0;34m\u001b[0m\u001b[0m\n\u001b[0;32m---> 30\u001b[0;31m \u001b[0;32mfrom\u001b[0m \u001b[0;34m.\u001b[0m\u001b[0mfile_transfer_agent\u001b[0m \u001b[0;32mimport\u001b[0m \u001b[0mSnowflakeFileTransferAgent\u001b[0m\u001b[0;34m\u001b[0m\u001b[0;34m\u001b[0m\u001b[0m\n\u001b[0m\u001b[1;32m     31\u001b[0m \u001b[0;32mfrom\u001b[0m \u001b[0;34m.\u001b[0m\u001b[0mjson_result\u001b[0m \u001b[0;32mimport\u001b[0m \u001b[0mDictJsonResult\u001b[0m\u001b[0;34m,\u001b[0m \u001b[0mJsonResult\u001b[0m\u001b[0;34m\u001b[0m\u001b[0;34m\u001b[0m\u001b[0m\n\u001b[1;32m     32\u001b[0m \u001b[0;32mfrom\u001b[0m \u001b[0;34m.\u001b[0m\u001b[0msqlstate\u001b[0m \u001b[0;32mimport\u001b[0m \u001b[0mSQLSTATE_FEATURE_NOT_SUPPORTED\u001b[0m\u001b[0;34m\u001b[0m\u001b[0;34m\u001b[0m\u001b[0m\n",
      "\u001b[0;32m/Library/Frameworks/Python.framework/Versions/3.7/lib/python3.7/site-packages/snowflake/connector/file_transfer_agent.py\u001b[0m in \u001b[0;36m<module>\u001b[0;34m\u001b[0m\n\u001b[1;32m     20\u001b[0m \u001b[0;32mimport\u001b[0m \u001b[0mbotocore\u001b[0m\u001b[0;34m.\u001b[0m\u001b[0mexceptions\u001b[0m\u001b[0;34m\u001b[0m\u001b[0;34m\u001b[0m\u001b[0m\n\u001b[1;32m     21\u001b[0m \u001b[0;34m\u001b[0m\u001b[0m\n\u001b[0;32m---> 22\u001b[0;31m \u001b[0;32mfrom\u001b[0m \u001b[0;34m.\u001b[0m\u001b[0mazure_util\u001b[0m \u001b[0;32mimport\u001b[0m \u001b[0mSnowflakeAzureUtil\u001b[0m\u001b[0;34m\u001b[0m\u001b[0;34m\u001b[0m\u001b[0m\n\u001b[0m\u001b[1;32m     23\u001b[0m \u001b[0;32mfrom\u001b[0m \u001b[0;34m.\u001b[0m\u001b[0mcompat\u001b[0m \u001b[0;32mimport\u001b[0m \u001b[0mGET_CWD\u001b[0m\u001b[0;34m,\u001b[0m \u001b[0mIS_WINDOWS\u001b[0m\u001b[0;34m\u001b[0m\u001b[0;34m\u001b[0m\u001b[0m\n\u001b[1;32m     24\u001b[0m \u001b[0;32mfrom\u001b[0m \u001b[0;34m.\u001b[0m\u001b[0mconstants\u001b[0m \u001b[0;32mimport\u001b[0m \u001b[0mSHA256_DIGEST\u001b[0m\u001b[0;34m,\u001b[0m \u001b[0mResultStatus\u001b[0m\u001b[0;34m\u001b[0m\u001b[0;34m\u001b[0m\u001b[0m\n",
      "\u001b[0;32m/Library/Frameworks/Python.framework/Versions/3.7/lib/python3.7/site-packages/snowflake/connector/azure_util.py\u001b[0m in \u001b[0;36m<module>\u001b[0;34m\u001b[0m\n\u001b[1;32m     11\u001b[0m \u001b[0;34m\u001b[0m\u001b[0m\n\u001b[1;32m     12\u001b[0m \u001b[0;32mfrom\u001b[0m \u001b[0mazure\u001b[0m\u001b[0;34m.\u001b[0m\u001b[0mcore\u001b[0m\u001b[0;34m.\u001b[0m\u001b[0mexceptions\u001b[0m \u001b[0;32mimport\u001b[0m \u001b[0mHttpResponseError\u001b[0m\u001b[0;34m,\u001b[0m \u001b[0mResourceNotFoundError\u001b[0m\u001b[0;34m\u001b[0m\u001b[0;34m\u001b[0m\u001b[0m\n\u001b[0;32m---> 13\u001b[0;31m \u001b[0;32mfrom\u001b[0m \u001b[0mazure\u001b[0m\u001b[0;34m.\u001b[0m\u001b[0mstorage\u001b[0m\u001b[0;34m.\u001b[0m\u001b[0mblob\u001b[0m \u001b[0;32mimport\u001b[0m \u001b[0mBlobServiceClient\u001b[0m\u001b[0;34m,\u001b[0m \u001b[0mContentSettings\u001b[0m\u001b[0;34m,\u001b[0m \u001b[0mExponentialRetry\u001b[0m\u001b[0;34m\u001b[0m\u001b[0;34m\u001b[0m\u001b[0m\n\u001b[0m\u001b[1;32m     14\u001b[0m \u001b[0;34m\u001b[0m\u001b[0m\n\u001b[1;32m     15\u001b[0m \u001b[0;32mfrom\u001b[0m \u001b[0;34m.\u001b[0m\u001b[0mconstants\u001b[0m \u001b[0;32mimport\u001b[0m \u001b[0mHTTP_HEADER_VALUE_OCTET_STREAM\u001b[0m\u001b[0;34m,\u001b[0m \u001b[0mSHA256_DIGEST\u001b[0m\u001b[0;34m,\u001b[0m \u001b[0mFileHeader\u001b[0m\u001b[0;34m,\u001b[0m \u001b[0mResultStatus\u001b[0m\u001b[0;34m\u001b[0m\u001b[0;34m\u001b[0m\u001b[0m\n",
      "\u001b[0;31mImportError\u001b[0m: cannot import name 'BlobServiceClient' from 'azure.storage.blob' (/Library/Frameworks/Python.framework/Versions/3.7/lib/python3.7/site-packages/azure/storage/blob/__init__.py)"
     ]
    }
   ],
   "source": [
    "import os\n",
    "import h5py \n",
    "import pandas as pd\n",
    "import numpy as np\n",
    "import glob\n",
    "import snowflake.connector\n",
    "from snowflake.connector.pandas_tools import write_pandas\n",
    "import matplotlib.pyplot as plt"
   ]
  },
  {
   "cell_type": "markdown",
   "id": "weighted-native",
   "metadata": {},
   "source": [
    "Set the local path directory for all downloaded data"
   ]
  },
  {
   "cell_type": "code",
   "execution_count": 2,
   "id": "positive-railway",
   "metadata": {},
   "outputs": [],
   "source": [
    "DATA_DIR='../data/'\n",
    "SEVIR_DIR=DATA_DIR + 'sevir/'\n",
    "STORM_EVENT_DIR = DATA_DIR + 'storm_event/'"
   ]
  },
  {
   "cell_type": "markdown",
   "id": "marine-minute",
   "metadata": {},
   "source": [
    "a. Read and clean the metadata"
   ]
  },
  {
   "cell_type": "code",
   "execution_count": 3,
   "id": "blessed-participant",
   "metadata": {},
   "outputs": [
    {
     "name": "stdout",
     "output_type": "stream",
     "text": [
      "(76004, 21)\n"
     ]
    }
   ],
   "source": [
    "# Read catalog csv and saved in dataframe\n",
    "\n",
    "event_catalog_df = pd.read_csv(SEVIR_DIR + 'CATALOG.csv', low_memory=False)\n",
    "print(event_catalog_df.shape)"
   ]
  },
  {
   "cell_type": "code",
   "execution_count": 4,
   "id": "subjective-screening",
   "metadata": {},
   "outputs": [],
   "source": [
    "# Rename dataframe columns name\n",
    "\n",
    "event_catalog_df.columns = [x.upper() for x in event_catalog_df.columns]"
   ]
  },
  {
   "cell_type": "code",
   "execution_count": 5,
   "id": "closed-turning",
   "metadata": {},
   "outputs": [
    {
     "name": "stdout",
     "output_type": "stream",
     "text": [
      "(13341, 21)\n"
     ]
    }
   ],
   "source": [
    "# Drop NaN values\n",
    "\n",
    "event_catalog_df = event_catalog_df.dropna()\n",
    "print(event_catalog_df.shape)"
   ]
  },
  {
   "cell_type": "code",
   "execution_count": 6,
   "id": "fifty-attitude",
   "metadata": {},
   "outputs": [
    {
     "name": "stdout",
     "output_type": "stream",
     "text": [
      "Metadata processed and changed into a dataframe\n"
     ]
    }
   ],
   "source": [
    "# Change the primary column datatype\n",
    "\n",
    "event_catalog_df['EVENT_ID'] = event_catalog_df['EVENT_ID'].astype(int)\n",
    "print(\"Metadata processed and changed into a dataframe\")"
   ]
  },
  {
   "cell_type": "markdown",
   "id": "religious-dialogue",
   "metadata": {},
   "source": [
    "b. Read and plot the data files"
   ]
  },
  {
   "cell_type": "code",
   "execution_count": 7,
   "id": "aquatic-drove",
   "metadata": {},
   "outputs": [],
   "source": [
    "data_dirs = [x[0] for x in os.walk(DATA_DIR)]"
   ]
  },
  {
   "cell_type": "code",
   "execution_count": 8,
   "id": "familiar-federation",
   "metadata": {},
   "outputs": [],
   "source": [
    "# Define a define a dataframe for data files. Also creating a new column img_type\n",
    "\n",
    "event_image_df = pd.DataFrame(columns = ['event_id', 'img_type', 'image'])\n",
    "img_types = []"
   ]
  },
  {
   "cell_type": "code",
   "execution_count": 9,
   "id": "computational-murray",
   "metadata": {},
   "outputs": [
    {
     "name": "stdout",
     "output_type": "stream",
     "text": [
      "vil ['../data/sevir/vil/SEVIR_VIL_STORMEVENTS_2017_0101_0630.h5', '../data/sevir/vil/SEVIR_VIL_STORMEVENTS_2019_0701_1231.h5', '../data/sevir/vil/SEVIR_VIL_STORMEVENTS_2017_0701_1231.h5']\n",
      "vis ['../data/sevir/vis/SEVIR_VIS_STORMEVENTS_2018_0101_0131.h5', '../data/sevir/vis/SEVIR_VIS_STORMEVENTS_2019_0101_0131.h5', '../data/sevir/vis/SEVIR_VIS_STORMEVENTS_2019_0201_0228.h5', '../data/sevir/vis/SEVIR_VIS_STORMEVENTS_2018_1201_1231.h5']\n",
      "ir107 ['../data/sevir/ir107/SEVIR_IR107_STORMEVENTS_2018_0101_0630.h5', '../data/sevir/ir107/SEVIR_IR107_STORMEVENTS_2019_0101_0630.h5', '../data/sevir/ir107/SEVIR_IR107_RANDOMEVENTS_2019_0101_0430.h5', '../data/sevir/ir107/SEVIR_IR107_RANDOMEVENTS_2018_0101_0430.h5']\n",
      "ir069 ['../data/sevir/ir069/SEVIR_IR069_STORMEVENTS_2018_0101_0630.h5', '../data/sevir/ir069/SEVIR_IR069_STORMEVENTS_2019_0101_0630.h5', '../data/sevir/ir069/SEVIR_IR069_RANDOMEVENTS_2019_0101_0430.h5', '../data/sevir/ir069/SEVIR_IR069_RANDOMEVENTS_2018_0101_0430.h5']\n"
     ]
    }
   ],
   "source": [
    "# Read and store the data files into a dataframe\n",
    "\n",
    "for d in data_dirs:\n",
    "    img_type = d[d.rindex(\"/\") + 1:]\n",
    "    filenames = glob.glob(d + \"/*.h5\")\n",
    "    if not filenames:\n",
    "        continue\n",
    "\n",
    "    img_types.append(img_type)\n",
    "    print(img_type, filenames)\n",
    "    \n",
    "    for file in filenames:\n",
    "        hf = h5py.File(file, 'r')\n",
    "        for idx in range(hf['id'].shape[0]):\n",
    "            event_id = float(hf['id'][idx].decode('UTF-8')[1:])\n",
    "            event_image_df = event_image_df.append({'EVENT_ID' : event_id, 'img_type' : img_type, 'image' : hf[img_type][idx]}, ignore_index=True)"
   ]
  },
  {
   "cell_type": "code",
   "execution_count": 12,
   "id": "attached-stylus",
   "metadata": {},
   "outputs": [
    {
     "data": {
      "text/plain": [
       "<matplotlib.image.AxesImage at 0x7f7ea89c5550>"
      ]
     },
     "execution_count": 12,
     "metadata": {},
     "output_type": "execute_result"
    },
    {
     "data": {
      "image/png": "[encoded data removed]",
      "text/plain": [
       "<Figure size 720x360 with 4 Axes>"
      ]
     },
     "metadata": {
      "needs_background": "light"
     },
     "output_type": "display_data"
    }
   ],
   "source": [
    "# Changing dataframe row into a 1D and plot a row of ir069 data images through Matplotlib\n",
    "\n",
    "arr = event_image_df.iloc[0]['image']\n",
    "\n",
    "#arr = arr.ravel()\n",
    "#arr = arr.reshape(192, 192, 49)\n",
    "\n",
    "fig,axs=plt.subplots(1,4,figsize=(10,5))\n",
    "axs[0].imshow(arr[:,:,10])\n",
    "axs[1].imshow(arr[:,:,20])\n",
    "axs[2].imshow(arr[:,:,30])\n",
    "axs[3].imshow(arr[:,:,40])"
   ]
  },
  {
   "cell_type": "markdown",
   "id": "tender-brother",
   "metadata": {},
   "source": [
    "c. Read and clean the storm events data files"
   ]
  },
  {
   "cell_type": "code",
   "execution_count": 13,
   "id": "peaceful-italic",
   "metadata": {},
   "outputs": [],
   "source": [
    "# Unzip all storm events files and store in a data frame\n",
    "\n",
    "column_set = set()\n",
    "df_list = []\n",
    "for f in glob.glob(STORM_EVENT_DIR + '*.csv.gz'):\n",
    "    df = pd.read_csv(f, compression='gzip', error_bad_lines=False, low_memory=False)\n",
    "    if len(column_set) == 0:\n",
    "        column_set.update(set(df.columns))\n",
    "        df_list.append(df)\n",
    "    elif column_set == set(df.columns):\n",
    "        df_list.append(df)\n",
    "\n",
    "storm_events_df = pd.concat(df_list)"
   ]
  },
  {
   "cell_type": "code",
   "execution_count": 14,
   "id": "bottom-filename",
   "metadata": {},
   "outputs": [],
   "source": [
    "# Drop index from the dataframe\n",
    "\n",
    "storm_events_df.drop(storm_events_df.columns[0], axis=1, inplace=True)"
   ]
  },
  {
   "cell_type": "code",
   "execution_count": 15,
   "id": "fuzzy-airfare",
   "metadata": {},
   "outputs": [],
   "source": [
    "# Rename dataframe column name\n",
    "\n",
    "storm_events_df.columns = [x.upper() for x in storm_events_df.columns]"
   ]
  },
  {
   "cell_type": "code",
   "execution_count": 16,
   "id": "chicken-district",
   "metadata": {
    "scrolled": true
   },
   "outputs": [
    {
     "name": "stdout",
     "output_type": "stream",
     "text": [
      "(1602920, 50)\n"
     ]
    }
   ],
   "source": [
    "# Reset dataframe index\n",
    "\n",
    "storm_events_df.reset_index(drop=True, inplace=True)\n",
    "print(storm_events_df.shape)"
   ]
  },
  {
   "cell_type": "markdown",
   "id": "executed-choice",
   "metadata": {},
   "source": [
    "d. Join the sevir data frame and catalog data frame"
   ]
  },
  {
   "cell_type": "code",
   "execution_count": 17,
   "id": "daily-shannon",
   "metadata": {},
   "outputs": [
    {
     "name": "stdout",
     "output_type": "stream",
     "text": [
      "(15229, 24)\n"
     ]
    }
   ],
   "source": [
    "# Join both the dataframe on Event_Id\n",
    "\n",
    "data_df = pd.merge(event_catalog_df, event_image_df,  how='inner', on=['EVENT_ID'])\n",
    "print(data_df.shape)"
   ]
  },
  {
   "cell_type": "markdown",
   "id": "incoming-photograph",
   "metadata": {},
   "source": [
    "e. Now, join the new data frame with storm events data frmae to get all weather information together"
   ]
  },
  {
   "cell_type": "code",
   "execution_count": 18,
   "id": "independent-procurement",
   "metadata": {},
   "outputs": [
    {
     "name": "stdout",
     "output_type": "stream",
     "text": [
      "(15229, 73)\n"
     ]
    }
   ],
   "source": [
    "joined_data_df = pd.merge(data_df, storm_events_df,  how='inner', on=['EVENT_ID'])\n",
    "print(joined_data_df.shape)"
   ]
  }
 ],
 "metadata": {
  "kernelspec": {
   "display_name": "Python 3",
   "language": "python",
   "name": "python3"
  },
  "language_info": {
   "codemirror_mode": {
    "name": "ipython",
    "version": 3
   },
   "file_extension": ".py",
   "mimetype": "text/x-python",
   "name": "python",
   "nbconvert_exporter": "python",
   "pygments_lexer": "ipython3",
   "version": "3.7.6"
  }
 },
 "nbformat": 4,
 "nbformat_minor": 5
}
